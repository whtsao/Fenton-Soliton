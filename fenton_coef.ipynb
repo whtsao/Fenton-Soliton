{
 "cells": [
  {
   "cell_type": "code",
   "execution_count": 3,
   "id": "72e0b5aa-9977-4de7-8478-2434f4bc3f29",
   "metadata": {},
   "outputs": [],
   "source": [
    "from proteus import *\n",
    "import numpy as np\n",
    "\n",
    "def fenton_nine_coef(x):\n",
    "    a = 0.\n",
    "    s = np.sech(a*x)**2\n",
    "    ita = 1.+0.5*np.tan(2.*a)/(2.*a)*(1.-(1.+8.*a/np.tan(2.*a)*(d-1.))**0.5)\n",
    "    return\n",
    "\n",
    "x = 0.\n",
    "\n"
   ]
  },
  {
   "cell_type": "code",
   "execution_count": null,
   "id": "6f8bdb38-2c22-440d-bcb5-107b45ee7706",
   "metadata": {},
   "outputs": [],
   "source": []
  }
 ],
 "metadata": {
  "kernelspec": {
   "display_name": "Python 3 (ipykernel)",
   "language": "python",
   "name": "python3"
  },
  "language_info": {
   "codemirror_mode": {
    "name": "ipython",
    "version": 3
   },
   "file_extension": ".py",
   "mimetype": "text/x-python",
   "name": "python",
   "nbconvert_exporter": "python",
   "pygments_lexer": "ipython3",
   "version": "3.9.12"
  }
 },
 "nbformat": 4,
 "nbformat_minor": 5
}
